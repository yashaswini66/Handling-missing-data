{
 "cells": [
  {
   "cell_type": "code",
   "execution_count": 4,
   "id": "bf7c637a-0c8e-4084-b98b-21b69e4141cb",
   "metadata": {},
   "outputs": [
    {
     "name": "stdout",
     "output_type": "stream",
     "text": [
      "    Invoice ID Branch       City Customer type  Gender  \\\n",
      "0          NaN   Alex     Yangon        Member     NaN   \n",
      "1  226-31-3081   Giza  Naypyitaw           NaN  Female   \n",
      "2          NaN   Alex     Yangon        Normal  Female   \n",
      "3  123-19-1176   Alex        NaN        Member  Female   \n",
      "4  373-73-7910   Alex     Yangon        Member  Female   \n",
      "\n",
      "             Product line  Unit price  Quantity   Tax 5%     Sales  \\\n",
      "0                     NaN       74.69       7.0  26.1415  548.9715   \n",
      "1  Electronic accessories       15.28       5.0   3.8200   80.2200   \n",
      "2      Home and lifestyle       46.33       NaN  16.2155       NaN   \n",
      "3       Health and beauty       58.22       8.0  23.2880  489.0480   \n",
      "4                     NaN       86.31       7.0  30.2085  634.3785   \n",
      "\n",
      "         Date         Time  Payment    cogs  Unnamed: 14  gross income  Rating  \n",
      "0  01-05-2019   1:08:00 PM  Ewallet  522.83     4.761905       26.1415     9.1  \n",
      "1  03-08-2019  10:29:00 AM     Cash   76.40     4.761905        3.8200     9.6  \n",
      "2  03-03-2019   1:23:00 PM      NaN  324.31     4.761905       16.2155     7.4  \n",
      "3   1/27/2019   8:33:00 PM  Ewallet     NaN     4.761905       23.2880     8.4  \n",
      "4  02-08-2019  10:37:00 AM  Ewallet  604.17     4.761905       30.2085     5.3  \n"
     ]
    }
   ],
   "source": [
    "import pandas as pd\n",
    "\n",
    "# Load the dataset (replace 'supermarket_data.csv' with the actual file name)\n",
    "df = pd.read_csv(r\"C:\\Users\\yashu\\Downloads\\SuperMarket Analysis.csv\")\n",
    "\n",
    "# Display the first few rows of the dataset\n",
    "print(df.head())\n"
   ]
  },
  {
   "cell_type": "code",
   "execution_count": 5,
   "id": "85a3572c-f772-40c4-902c-a54165ab3f9e",
   "metadata": {},
   "outputs": [
    {
     "name": "stdout",
     "output_type": "stream",
     "text": [
      "Invoice ID        object\n",
      "Branch            object\n",
      "City              object\n",
      "Customer type     object\n",
      "Gender            object\n",
      "Product line      object\n",
      "Unit price       float64\n",
      "Quantity         float64\n",
      "Tax 5%           float64\n",
      "Sales            float64\n",
      "Date              object\n",
      "Time              object\n",
      "Payment           object\n",
      "cogs             float64\n",
      "Unnamed: 14      float64\n",
      "gross income     float64\n",
      "Rating           float64\n",
      "dtype: object\n"
     ]
    }
   ],
   "source": [
    "# Check the data types of all columns in the DataFrame\n",
    "print(df.dtypes)\n"
   ]
  },
  {
   "cell_type": "code",
   "execution_count": 5,
   "id": "741bb39d-2cfc-41e6-8855-dc12a8f57fe0",
   "metadata": {},
   "outputs": [
    {
     "name": "stdout",
     "output_type": "stream",
     "text": [
      "Invoice ID       23\n",
      "Branch           10\n",
      "City             16\n",
      "Customer type    18\n",
      "Gender            8\n",
      "Product line      4\n",
      "Unit price       22\n",
      "Quantity         10\n",
      "Tax 5%           17\n",
      "Sales            23\n",
      "Date              2\n",
      "Time              0\n",
      "Payment           1\n",
      "cogs              1\n",
      "Unnamed: 14       1\n",
      "gross income      1\n",
      "Rating            0\n",
      "dtype: int64\n"
     ]
    }
   ],
   "source": [
    "# Check for missing values in each column\n",
    "print(df.isnull().sum())"
   ]
  },
  {
   "cell_type": "code",
   "execution_count": 6,
   "id": "b455c0b5-d57c-44c0-bd39-e641e96b8f6e",
   "metadata": {},
   "outputs": [
    {
     "name": "stdout",
     "output_type": "stream",
     "text": [
      "Total missing values: 157\n"
     ]
    }
   ],
   "source": [
    "# Total number of missing values in the dataset\n",
    "total_missing = df.isnull().sum().sum()\n",
    "print(f\"Total missing values: {total_missing}\")\n"
   ]
  },
  {
   "cell_type": "code",
   "execution_count": 8,
   "id": "2c61fbf3-7a90-4608-82b8-0fba0c71d2fa",
   "metadata": {},
   "outputs": [
    {
     "name": "stdout",
     "output_type": "stream",
     "text": [
      "Percentage of missing values per column:\n",
      "Invoice ID       2.3\n",
      "Branch           1.0\n",
      "City             1.6\n",
      "Customer type    1.8\n",
      "Gender           0.8\n",
      "Product line     0.4\n",
      "Unit price       2.2\n",
      "Quantity         1.0\n",
      "Tax 5%           1.7\n",
      "Sales            2.3\n",
      "Date             0.2\n",
      "Time             0.0\n",
      "Payment          0.1\n",
      "cogs             0.1\n",
      "Unnamed: 14      0.1\n",
      "gross income     0.1\n",
      "Rating           0.0\n",
      "dtype: float64\n"
     ]
    }
   ],
   "source": [
    "# Percentage of missing values in each column\n",
    "missing_percentage = df.isnull().mean() * 100\n",
    "print(\"Percentage of missing values per column:\")\n",
    "print(missing_percentage)\n"
   ]
  },
  {
   "cell_type": "code",
   "execution_count": 10,
   "id": "7105fc9a-1cdd-40af-9cb8-88a8df07f7a4",
   "metadata": {},
   "outputs": [
    {
     "name": "stdout",
     "output_type": "stream",
     "text": [
      "Data after removing rows/columns with missing values:\n",
      "     Invoice ID Branch      City Customer type  Gender        Product line  \\\n",
      "9   692-92-5582  Cairo  Mandalay        Member  Female  Food and beverages   \n",
      "14  829-34-3910   Alex    Yangon        Member  Female   Health and beauty   \n",
      "16  656-95-9349   Alex    Yangon        Member  Female   Health and beauty   \n",
      "18  329-62-1586   Alex    Yangon        Member  Female  Food and beverages   \n",
      "19  319-50-3348  Cairo  Mandalay        Member  Female  Home and lifestyle   \n",
      "\n",
      "    Unit price  Quantity   Tax 5%     Sales        Date         Time  \\\n",
      "9        54.84       3.0   8.2260  172.7460   2/20/2019   1:27:00 PM   \n",
      "14       71.38      10.0  35.6900  749.4900   3/29/2019   7:21:00 PM   \n",
      "16       68.93       7.0  24.1255  506.6355  03-11-2019  11:03:00 AM   \n",
      "18       54.67       3.0   8.2005  172.2105   1/21/2019   6:00:00 PM   \n",
      "19       40.30       2.0   4.0300   84.6300  03-11-2019   3:30:00 PM   \n",
      "\n",
      "        Payment    cogs  Unnamed: 14  gross income  Rating  \n",
      "9   Credit card  164.52     4.761905        8.2260     5.9  \n",
      "14         Cash  713.80     4.761905       35.6900     5.7  \n",
      "16  Credit card  482.51     4.761905       24.1255     4.6  \n",
      "18  Credit card  164.01     4.761905        8.2005     8.6  \n",
      "19      Ewallet   80.60     4.761905        4.0300     4.4  \n",
      "          Time  Rating\n",
      "0   1:08:00 PM     9.1\n",
      "1  10:29:00 AM     9.6\n",
      "2   1:23:00 PM     7.4\n",
      "3   8:33:00 PM     8.4\n",
      "4  10:37:00 AM     5.3\n"
     ]
    }
   ],
   "source": [
    "# Drop rows with any missing values\n",
    "df_dropped_rows = df.dropna()\n",
    "\n",
    "# Drop columns with missing values\n",
    "df_dropped_columns = df.dropna(axis=1)\n",
    "\n",
    "print(\"Data after removing rows/columns with missing values:\")\n",
    "print(df_dropped_rows.head())\n",
    "print(df_dropped_columns.head())\n"
   ]
  },
  {
   "cell_type": "code",
   "execution_count": 12,
   "id": "492918e4-c4c0-40af-ba40-7776b2467061",
   "metadata": {},
   "outputs": [
    {
     "name": "stdout",
     "output_type": "stream",
     "text": [
      "Index(['Invoice ID', 'Branch', 'City', 'Customer type', 'Gender',\n",
      "       'Product line', 'Unit price', 'Quantity', 'Tax 5%', 'Sales', 'Date',\n",
      "       'Time', 'Payment', 'cogs', 'Unnamed: 14', 'gross income', 'Rating'],\n",
      "      dtype='object')\n"
     ]
    }
   ],
   "source": [
    "print(df.columns)\n"
   ]
  },
  {
   "cell_type": "code",
   "execution_count": 8,
   "id": "2abc6df7-3a8d-4ba5-9b24-bb359778dd56",
   "metadata": {},
   "outputs": [
    {
     "name": "stdout",
     "output_type": "stream",
     "text": [
      "<class 'pandas.core.frame.DataFrame'>\n",
      "RangeIndex: 1000 entries, 0 to 999\n",
      "Data columns (total 17 columns):\n",
      " #   Column         Non-Null Count  Dtype  \n",
      "---  ------         --------------  -----  \n",
      " 0   Invoice ID     977 non-null    object \n",
      " 1   Branch         990 non-null    object \n",
      " 2   City           984 non-null    object \n",
      " 3   Customer type  982 non-null    object \n",
      " 4   Gender         992 non-null    object \n",
      " 5   Product line   996 non-null    object \n",
      " 6   Unit price     978 non-null    float64\n",
      " 7   Quantity       990 non-null    float64\n",
      " 8   Tax 5%         983 non-null    float64\n",
      " 9   Sales          977 non-null    float64\n",
      " 10  Date           998 non-null    object \n",
      " 11  Time           1000 non-null   object \n",
      " 12  Payment        999 non-null    object \n",
      " 13  cogs           999 non-null    float64\n",
      " 14  Unnamed: 14    999 non-null    float64\n",
      " 15  gross income   999 non-null    float64\n",
      " 16  Rating         1000 non-null   float64\n",
      "dtypes: float64(8), object(9)\n",
      "memory usage: 132.9+ KB\n",
      "None\n"
     ]
    }
   ],
   "source": [
    "import pandas as pd\n",
    "\n",
    "# Load dataset\n",
    "df = pd.read_csv(r\"C:\\Users\\yashu\\Downloads\\SuperMarket Analysis.csv\")  # Replace with the correct path if necessary\n",
    "\n",
    "# Check the info of the DataFrame\n",
    "print(df.info())  # Displays the structure, columns, and missing values\n",
    "\n",
    "# Proceed with further operations after confirming df is loaded\n"
   ]
  },
  {
   "cell_type": "code",
   "execution_count": 6,
   "id": "cb309602-0a17-4a72-a64d-ee2ac6986b3e",
   "metadata": {},
   "outputs": [
    {
     "name": "stdout",
     "output_type": "stream",
     "text": [
      "Unit price      0\n",
      "Quantity        0\n",
      "Tax 5%          0\n",
      "Sales           0\n",
      "cogs            0\n",
      "Unnamed: 14     0\n",
      "gross income    0\n",
      "Rating          0\n",
      "dtype: int64\n"
     ]
    }
   ],
   "source": [
    "# Select numerical columns\n",
    "numerical_columns = df.select_dtypes(include=['float64']).columns\n",
    "\n",
    "# Fill missing values in numerical columns with the mean\n",
    "df[numerical_columns] = df[numerical_columns].fillna(df[numerical_columns].mean())\n",
    "\n",
    "# Verify that missing values are handled\n",
    "print(df[numerical_columns].isnull().sum())\n"
   ]
  },
  {
   "cell_type": "code",
   "execution_count": 8,
   "id": "d03cf95d-ed06-4b49-9a5a-24c72cdb1753",
   "metadata": {},
   "outputs": [
    {
     "name": "stdout",
     "output_type": "stream",
     "text": [
      "Invoice ID       0\n",
      "Branch           0\n",
      "City             0\n",
      "Customer type    0\n",
      "Gender           0\n",
      "Product line     0\n",
      "Date             0\n",
      "Time             0\n",
      "Payment          0\n",
      "dtype: int64\n"
     ]
    }
   ],
   "source": [
    "# Fill missing values in categorical columns with the mode (most frequent value)\n",
    "for column in categorical_columns:\n",
    "    mode_value = df[column].mode()[0]  # Access the first mode value\n",
    "    df[column] = df[column].fillna(mode_value)\n",
    "\n",
    "# Verify that missing values are handled\n",
    "print(df[categorical_columns].isnull().sum())\n"
   ]
  },
  {
   "cell_type": "code",
   "execution_count": 9,
   "id": "3bbae276-649a-4ac6-ad57-b6f90cdb4c60",
   "metadata": {},
   "outputs": [
    {
     "name": "stdout",
     "output_type": "stream",
     "text": [
      "Missing values after handling:\n",
      "Invoice ID       0\n",
      "Branch           0\n",
      "City             0\n",
      "Customer type    0\n",
      "Gender           0\n",
      "Product line     0\n",
      "Unit price       0\n",
      "Quantity         0\n",
      "Tax 5%           0\n",
      "Sales            0\n",
      "Date             0\n",
      "Time             0\n",
      "Payment          0\n",
      "cogs             0\n",
      "Unnamed: 14      0\n",
      "gross income     0\n",
      "Rating           0\n",
      "dtype: int64\n"
     ]
    }
   ],
   "source": [
    "# Final check for missing values\n",
    "print(\"Missing values after handling:\")\n",
    "print(df.isnull().sum())\n"
   ]
  },
  {
   "cell_type": "code",
   "execution_count": 10,
   "id": "96656636-3b67-41bb-9171-4a44ccfde871",
   "metadata": {},
   "outputs": [],
   "source": [
    "# Save the cleaned dataset to a new CSV file\n",
    "df.to_csv('cleaned_supermarket_data.csv', index=False)\n"
   ]
  },
  {
   "cell_type": "code",
   "execution_count": 14,
   "id": "73379d2b-b59b-4ddb-a92a-88e28c7ab918",
   "metadata": {},
   "outputs": [
    {
     "data": {
      "image/png": "[encoded data removed]",
      "text/plain": [
       "<Figure size 1000x500 with 1 Axes>"
      ]
     },
     "metadata": {},
     "output_type": "display_data"
    }
   ],
   "source": [
    "import matplotlib.pyplot as plt\n",
    "\n",
    "# Count missing values in categorical columns\n",
    "missing_categorical = df[categorical_columns].isnull().sum()\n",
    "\n",
    "# Plot missing values for categorical columns\n",
    "missing_categorical.plot(kind='bar', color='orange', figsize=(10, 5))\n",
    "plt.title('Missing Values in Categorical Columns')\n",
    "plt.xlabel('Columns')\n",
    "plt.ylabel('Count of Missing Values')\n",
    "plt.xticks(rotation=45)\n",
    "plt.show()\n",
    "\n",
    "\n"
   ]
  },
  {
   "cell_type": "code",
   "execution_count": 15,
   "id": "dcd7d10b-c643-4df4-aafa-6ac94c36ddf0",
   "metadata": {},
   "outputs": [
    {
     "data": {
      "image/png": "[encoded data removed]",
      "text/plain": [
       "<Figure size 800x600 with 1 Axes>"
      ]
     },
     "metadata": {},
     "output_type": "display_data"
    },
    {
     "data": {
      "image/png": "[encoded data removed]",
      "text/plain": [
       "<Figure size 800x600 with 1 Axes>"
      ]
     },
     "metadata": {},
     "output_type": "display_data"
    }
   ],
   "source": [
    "import seaborn as sns\n",
    "\n",
    "# Plot boxplot of numerical column before imputation\n",
    "plt.figure(figsize=(8, 6))\n",
    "sns.boxplot(x=df['Unit price'])\n",
    "plt.title('Boxplot of Unit Price (Before Imputation)')\n",
    "plt.show()\n",
    "\n",
    "# Impute numerical columns with the mean\n",
    "df[numerical_columns] = df[numerical_columns].fillna(df[numerical_columns].mean())\n",
    "\n",
    "# Plot boxplot of numerical column after imputation\n",
    "plt.figure(figsize=(8, 6))\n",
    "sns.boxplot(x=df['Unit price'])\n",
    "plt.title('Boxplot of Unit Price (After Imputation)')\n",
    "plt.show()\n"
   ]
  },
  {
   "cell_type": "code",
   "execution_count": null,
   "id": "8572559a-e826-48c1-ba39-553fecf223b0",
   "metadata": {},
   "outputs": [],
   "source": []
  }
 ],
 "metadata": {
  "kernelspec": {
   "display_name": "Python 3 (ipykernel)",
   "language": "python",
   "name": "python3"
  },
  "language_info": {
   "codemirror_mode": {
    "name": "ipython",
    "version": 3
   },
   "file_extension": ".py",
   "mimetype": "text/x-python",
   "name": "python",
   "nbconvert_exporter": "python",
   "pygments_lexer": "ipython3",
   "version": "3.12.4"
  }
 },
 "nbformat": 4,
 "nbformat_minor": 5
}
